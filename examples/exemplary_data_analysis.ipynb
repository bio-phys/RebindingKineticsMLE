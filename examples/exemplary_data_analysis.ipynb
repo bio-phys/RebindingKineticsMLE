{
 "cells": [
  {
   "cell_type": "code",
   "execution_count": null,
   "metadata": {
    "scrolled": true
   },
   "outputs": [],
   "source": [
    "using Plots, RebindingKineticsMLE, StatsBase"
   ]
  },
  {
   "cell_type": "markdown",
   "metadata": {},
   "source": [
    "# Introduction"
   ]
  },
  {
   "cell_type": "markdown",
   "metadata": {},
   "source": [
    "This is a minimal example on how to apply our maximum likelihood estimator to a set of pulling traces.  To get a feeling for the quality of the fit, we compare our results to rate maps generated via the method by Zhang & Dudko [https://doi.org/10.1073/pnas.1309101110].  \n",
    "\n",
    "For more details on the theoretical framework, please refer to the associated publication:\n",
    "> J. T. Bullerjahn and G. Hummer, \"Rebinding kinetics from single-molecule force spectroscopy experiments close to equilibrium\", ..."
   ]
  },
  {
   "cell_type": "markdown",
   "metadata": {},
   "source": [
    "# Generate synthetic data"
   ]
  },
  {
   "cell_type": "markdown",
   "metadata": {},
   "source": [
    "Each pulling trace (<code>Array{Float64,2}</code>) is defined by the applied force and the state the system occupies at every measurement.  A collection of pulling traces should therefore be of the type <code>Array{Array{Float64,2},1}</code>.  \n",
    "\n",
    "Here, we use the Gillespie stochastic simulation algorithm to generate synthetic data for a linear force protocol $F(t) \\propto \\dot{F} t$.  The data set is made up of $M$ pulling traces of varying lengths.  "
   ]
  },
  {
   "cell_type": "code",
   "execution_count": null,
   "metadata": {},
   "outputs": [],
   "source": [
    "include(\"./linear_gillespie_simulation_functions.jl\")\n",
    "\n",
    "const Δt = 1e-7 # time step with dimension [Δt] = s\n",
    "\n",
    "const M = 10 # Number of traces\n",
    "const dF = 100.0 # Loading rate\n",
    "const F_0 = 6.0 # Force offset between states with dimension [F_0] = pN\n",
    "\n",
    "const Δx_off = 0.4\n",
    "const Δx_on = 0.2\n",
    "const k_off0 = 3.0\n",
    "const k_on0 = 4000.0\n",
    "ground_truth = [Δx_off, Δx_on, k_off0, k_on0]\n",
    "\n",
    "data = make_data(M,dF,F_0,Δt,ground_truth)\n",
    "b_to_b, u_to_b, b_to_u, u_to_u = sort_data(data);"
   ]
  },
  {
   "cell_type": "markdown",
   "metadata": {},
   "source": [
    "# Analyzing the data"
   ]
  },
  {
   "cell_type": "markdown",
   "metadata": {},
   "source": [
    "## Parameter estimation"
   ]
  },
  {
   "cell_type": "code",
   "execution_count": null,
   "metadata": {},
   "outputs": [],
   "source": [
    "MLE_estimates, MLE_errors = MLE_estimator(data,Δt)\n",
    "\n",
    "println(\"Estimates:\")\n",
    "println(string(\"Δx_off = \", MLE_estimates[1], \" ± \", MLE_errors[1]))\n",
    "println(string(\"Δx_on = \", MLE_estimates[2], \" ± \", MLE_errors[2]))\n",
    "println(string(\"k_off0 = \", MLE_estimates[3], \" ± \", MLE_errors[3]))\n",
    "println(string(\"k_on0 = \", MLE_estimates[4], \" ± \", MLE_errors[4]))\n",
    "\n",
    "println()\n",
    "\n",
    "println(\"Ground truth:\")\n",
    "println(string(\"Δx_off = \", Δx_off))\n",
    "println(string(\"Δx_on = \", Δx_on))\n",
    "println(string(\"k_off0 = \", k_off0))\n",
    "println(string(\"k_on0 = \", k_on0))"
   ]
  },
  {
   "cell_type": "markdown",
   "metadata": {},
   "source": [
    "## Compare to rate maps"
   ]
  },
  {
   "cell_type": "code",
   "execution_count": null,
   "metadata": {},
   "outputs": [],
   "source": [
    "include(\"./rate_map_functions.jl\")\n",
    "\n",
    "N_bin = 30\n",
    "off_rate, on_rate = rate_map(b_to_u,u_to_b,dF,F_0,M,N_bin)\n",
    "\n",
    "exact_off_rate = k_off.(ground_truth[1],ground_truth[3],off_rate[:,1])\n",
    "exact_on_rate = k_on.(ground_truth[2],ground_truth[4],on_rate[:,1],0.0)\n",
    "\n",
    "MLE_off_rate = k_off.(MLE_estimates[1],MLE_estimates[3],off_rate[:,1])\n",
    "MLE_on_rate = k_on.(MLE_estimates[2],MLE_estimates[4],on_rate[:,1],0.0)\n",
    "\n",
    "p1 = plot(off_rate[:,1], off_rate[:,2], seriestype = :scatter, yerror=off_rate[:,3], yscale=:log10, ylims=(1,10000), label=\"off-rate map\")\n",
    "p2 = plot!(p1, on_rate[:,1], on_rate[:,2], seriestype = :scatter, yerror=on_rate[:,3], yscale=:log10, label=\"on-rate map\")\n",
    "p3 = plot!(p2, off_rate[:,1], hcat([exact_off_rate, MLE_off_rate]...), yscale=:log10, labels=[\"exact off-rate\" \"MLE off-rate\"])\n",
    "p4 = plot!(p3, on_rate[:,1], hcat([exact_on_rate, MLE_on_rate]...), yscale=:log10, labels=[\"exact on-rate\" \"MLE on-rate\"])"
   ]
  },
  {
   "cell_type": "code",
   "execution_count": null,
   "metadata": {},
   "outputs": [],
   "source": []
  }
 ],
 "metadata": {
  "@webio": {
   "lastCommId": null,
   "lastKernelId": null
  },
  "kernelspec": {
   "display_name": "Julia 1.6.1",
   "language": "julia",
   "name": "julia-1.6"
  },
  "language_info": {
   "file_extension": ".jl",
   "mimetype": "application/julia",
   "name": "julia",
   "version": "1.6.1"
  }
 },
 "nbformat": 4,
 "nbformat_minor": 4
}
